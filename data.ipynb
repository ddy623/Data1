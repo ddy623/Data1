{
 "cells": [
  {
   "cell_type": "code",
   "execution_count": 3,
   "id": "d69a7655-ab61-49fa-82fd-887db68c9aa7",
   "metadata": {},
   "outputs": [],
   "source": [
    "# Imports\n",
    "import numpy as np\n",
    "import pandas as pd\n",
    "import matplotlib.pyplot as plt\n",
    "import seaborn as sns\n",
    "import os"
   ]
  },
  {
   "cell_type": "code",
   "execution_count": 2,
   "id": "61caf5ab-9655-4db0-932d-073f80b50334",
   "metadata": {},
   "outputs": [],
   "source": [
    "#example making new folder with os\n",
    "import os\n",
    "os.makedirs('Data/',exist_ok=True)"
   ]
  },
  {
   "cell_type": "code",
   "execution_count": 4,
   "id": "2d32ebdb-40bb-43e7-9735-6078d0dbc551",
   "metadata": {},
   "outputs": [
    {
     "data": {
      "text/plain": [
       "['title.basics.tsv.gz',\n",
       " 'title.ratings.tsv.gz',\n",
       " 'title-akas-us-only.csv',\n",
       " '.ipynb_checkpoints']"
      ]
     },
     "execution_count": 4,
     "metadata": {},
     "output_type": "execute_result"
    }
   ],
   "source": [
    "os.listdir('Data/')"
   ]
  },
  {
   "cell_type": "code",
   "execution_count": 8,
   "id": "2e29fb4b-ace2-41e0-9f2b-2653c01d495e",
   "metadata": {},
   "outputs": [
    {
     "data": {
      "text/html": [
       "<div>\n",
       "<style scoped>\n",
       "    .dataframe tbody tr th:only-of-type {\n",
       "        vertical-align: middle;\n",
       "    }\n",
       "\n",
       "    .dataframe tbody tr th {\n",
       "        vertical-align: top;\n",
       "    }\n",
       "\n",
       "    .dataframe thead th {\n",
       "        text-align: right;\n",
       "    }\n",
       "</style>\n",
       "<table border=\"1\" class=\"dataframe\">\n",
       "  <thead>\n",
       "    <tr style=\"text-align: right;\">\n",
       "      <th></th>\n",
       "      <th>tconst</th>\n",
       "      <th>titleType</th>\n",
       "      <th>primaryTitle</th>\n",
       "      <th>originalTitle</th>\n",
       "      <th>isAdult</th>\n",
       "      <th>startYear</th>\n",
       "      <th>endYear</th>\n",
       "      <th>runtimeMinutes</th>\n",
       "      <th>genres</th>\n",
       "    </tr>\n",
       "  </thead>\n",
       "  <tbody>\n",
       "    <tr>\n",
       "      <th>0</th>\n",
       "      <td>tt0000001</td>\n",
       "      <td>short</td>\n",
       "      <td>Carmencita</td>\n",
       "      <td>Carmencita</td>\n",
       "      <td>0</td>\n",
       "      <td>1894</td>\n",
       "      <td>\\N</td>\n",
       "      <td>1</td>\n",
       "      <td>Documentary,Short</td>\n",
       "    </tr>\n",
       "    <tr>\n",
       "      <th>1</th>\n",
       "      <td>tt0000002</td>\n",
       "      <td>short</td>\n",
       "      <td>Le clown et ses chiens</td>\n",
       "      <td>Le clown et ses chiens</td>\n",
       "      <td>0</td>\n",
       "      <td>1892</td>\n",
       "      <td>\\N</td>\n",
       "      <td>5</td>\n",
       "      <td>Animation,Short</td>\n",
       "    </tr>\n",
       "    <tr>\n",
       "      <th>2</th>\n",
       "      <td>tt0000003</td>\n",
       "      <td>short</td>\n",
       "      <td>Pauvre Pierrot</td>\n",
       "      <td>Pauvre Pierrot</td>\n",
       "      <td>0</td>\n",
       "      <td>1892</td>\n",
       "      <td>\\N</td>\n",
       "      <td>4</td>\n",
       "      <td>Animation,Comedy,Romance</td>\n",
       "    </tr>\n",
       "    <tr>\n",
       "      <th>3</th>\n",
       "      <td>tt0000004</td>\n",
       "      <td>short</td>\n",
       "      <td>Un bon bock</td>\n",
       "      <td>Un bon bock</td>\n",
       "      <td>0</td>\n",
       "      <td>1892</td>\n",
       "      <td>\\N</td>\n",
       "      <td>12</td>\n",
       "      <td>Animation,Short</td>\n",
       "    </tr>\n",
       "    <tr>\n",
       "      <th>4</th>\n",
       "      <td>tt0000005</td>\n",
       "      <td>short</td>\n",
       "      <td>Blacksmith Scene</td>\n",
       "      <td>Blacksmith Scene</td>\n",
       "      <td>0</td>\n",
       "      <td>1893</td>\n",
       "      <td>\\N</td>\n",
       "      <td>1</td>\n",
       "      <td>Comedy,Short</td>\n",
       "    </tr>\n",
       "  </tbody>\n",
       "</table>\n",
       "</div>"
      ],
      "text/plain": [
       "      tconst titleType            primaryTitle           originalTitle  \\\n",
       "0  tt0000001     short              Carmencita              Carmencita   \n",
       "1  tt0000002     short  Le clown et ses chiens  Le clown et ses chiens   \n",
       "2  tt0000003     short          Pauvre Pierrot          Pauvre Pierrot   \n",
       "3  tt0000004     short             Un bon bock             Un bon bock   \n",
       "4  tt0000005     short        Blacksmith Scene        Blacksmith Scene   \n",
       "\n",
       "  isAdult startYear endYear runtimeMinutes                    genres  \n",
       "0       0      1894      \\N              1         Documentary,Short  \n",
       "1       0      1892      \\N              5           Animation,Short  \n",
       "2       0      1892      \\N              4  Animation,Comedy,Romance  \n",
       "3       0      1892      \\N             12           Animation,Short  \n",
       "4       0      1893      \\N              1              Comedy,Short  "
      ]
     },
     "execution_count": 8,
     "metadata": {},
     "output_type": "execute_result"
    }
   ],
   "source": [
    "#title_basics\n",
    "basics = pd.read_csv('Data/title.basics.tsv.gz', sep='\\t', low_memory=False)\n",
    "basics.head()"
   ]
  },
  {
   "cell_type": "code",
   "execution_count": null,
   "id": "9e89cee0-fa0c-42a1-aaab-d29e3ff8a81d",
   "metadata": {},
   "outputs": [],
   "source": [
    "#title_ratings\n",
    "ratings = pd.read_csv('Data/title.ratings.tsv.gz', sep='\\t', low_memory=False)\n",
    "ratings.head()"
   ]
  },
  {
   "cell_type": "code",
   "execution_count": null,
   "id": "6fc7b1fd-657e-49b3-a845-077a8975fe96",
   "metadata": {},
   "outputs": [],
   "source": [
    "#title_akas\n",
    "akas = pd.read_csv('Data/title-akas-us-only.csv', low_memory = False)\n",
    "akas.head()"
   ]
  },
  {
   "cell_type": "code",
   "execution_count": null,
   "id": "baa0c913-e84a-4fb7-a514-890641992b58",
   "metadata": {},
   "outputs": [],
   "source": [
    "#filtering basics based on akas\n",
    "filter_us_titles = basics['tconst'].isin(akas['titleId'])\n",
    "basics = basics[filter_us_titles]\n",
    "basics"
   ]
  },
  {
   "cell_type": "code",
   "execution_count": null,
   "id": "76685226-2307-4945-a97f-d80de8ae7c2f",
   "metadata": {},
   "outputs": [],
   "source": [
    "#replacing \\Ns in basics\n",
    "basics = basics.replace({'\\\\N':np.nan})"
   ]
  },
  {
   "cell_type": "code",
   "execution_count": null,
   "id": "9544ad30-1934-4ef9-bcac-8a5b2c9705f3",
   "metadata": {},
   "outputs": [],
   "source": [
    "#replacing \\Ns in akas\n",
    "akas = akas.replace({'\\\\N':np.nan})"
   ]
  },
  {
   "cell_type": "code",
   "execution_count": null,
   "id": "6438e41b-006c-4f35-bc88-3dc35f6ee33b",
   "metadata": {},
   "outputs": [],
   "source": [
    "#replacing \\Ns in ratings\n",
    "ratings = ratings.replace({'\\\\N':np.nan})"
   ]
  },
  {
   "cell_type": "code",
   "execution_count": null,
   "id": "2bd672bb-fe67-4e13-9232-1b24e91eb86e",
   "metadata": {},
   "outputs": [],
   "source": [
    "#Viewing null values in basics\n",
    "basics.isna().sum()"
   ]
  },
  {
   "cell_type": "code",
   "execution_count": null,
   "id": "bfed2b8f-a4ca-41cf-8509-3ac60ed8d643",
   "metadata": {},
   "outputs": [],
   "source": [
    "#Convert startyear to float\n",
    "basics['startYear'] = basics['startYear'].astype(float)"
   ]
  },
  {
   "cell_type": "code",
   "execution_count": null,
   "id": "60201e70-5bca-478c-9113-686fa92dd389",
   "metadata": {},
   "outputs": [],
   "source": [
    "#keep startYear 2000-2022\n",
    "basics = basics[(basics['startYear']>=2000)&(basics['startYear']<=2022)]\n",
    "basics.head()"
   ]
  },
  {
   "cell_type": "code",
   "execution_count": null,
   "id": "020bcd47-9a69-4470-8809-67d252c22073",
   "metadata": {},
   "outputs": [],
   "source": [
    "#keep only titleType == movie\n",
    "basics = basics.loc[ basics['titleType']=='movie']\n",
    "basics.info()"
   ]
  },
  {
   "cell_type": "code",
   "execution_count": null,
   "id": "4d8b953e-1b44-4fee-836d-63f5378b486f",
   "metadata": {},
   "outputs": [],
   "source": [
    "#Eliminate movies that are null for runtimeMinute and genres\n",
    "basics = basics.dropna(subset=['runtimeMinutes','genres'])\n",
    "basics.isna().sum()"
   ]
  },
  {
   "cell_type": "code",
   "execution_count": null,
   "id": "090dad09-81df-415b-9957-2c95449c2569",
   "metadata": {},
   "outputs": [],
   "source": [
    "#Filtering out movies that are documentaries\n",
    "filter_documentaries = basics['genres'].str.contains('documentary',case=False)"
   ]
  },
  {
   "cell_type": "code",
   "execution_count": null,
   "id": "ba900f6b-1087-450e-85a4-567e6a841b41",
   "metadata": {},
   "outputs": [],
   "source": [
    "#Using documentaries filter\n",
    "basics = basics[~filter_documentaries]"
   ]
  },
  {
   "cell_type": "code",
   "execution_count": null,
   "id": "e4dd1623-871b-4758-9e7e-1a930a26b32b",
   "metadata": {},
   "outputs": [],
   "source": [
    "#Filtering ratings based on basics\n",
    "filter_basics = ratings['tconst'].isin(basics['tconst'])\n",
    "ratings = ratings[filter_basics]\n",
    "ratings"
   ]
  },
  {
   "cell_type": "code",
   "execution_count": null,
   "id": "500304c0-6db0-40c8-b574-fd117a1824bb",
   "metadata": {},
   "outputs": [],
   "source": [
    "#Viewing info of basics\n",
    "basics.info()"
   ]
  },
  {
   "cell_type": "code",
   "execution_count": null,
   "id": "c2d6ac6c-cb08-4cff-a8a6-ade2e4d33caf",
   "metadata": {},
   "outputs": [],
   "source": [
    "#Viewing info of akas\n",
    "akas.info()"
   ]
  },
  {
   "cell_type": "code",
   "execution_count": null,
   "id": "0c79acf3-c30c-4905-a1c9-5e4815842d61",
   "metadata": {},
   "outputs": [],
   "source": [
    "basics.to_csv(\"Data/title-basics.csv\", index=False)"
   ]
  },
  {
   "cell_type": "code",
   "execution_count": null,
   "id": "61ffc9d9-78d0-4aec-b3cf-2042c9c9bc83",
   "metadata": {},
   "outputs": [],
   "source": [
    "ratings.to_csv(\"Data/title-ratings.csv\", index=False)"
   ]
  },
  {
   "cell_type": "code",
   "execution_count": null,
   "id": "ab5dd859-7892-4bf0-97cd-270b150759f0",
   "metadata": {},
   "outputs": [],
   "source": []
  }
 ],
 "metadata": {
  "kernelspec": {
   "display_name": "Python (dojo-env)",
   "language": "python",
   "name": "dojo-env"
  },
  "language_info": {
   "codemirror_mode": {
    "name": "ipython",
    "version": 3
   },
   "file_extension": ".py",
   "mimetype": "text/x-python",
   "name": "python",
   "nbconvert_exporter": "python",
   "pygments_lexer": "ipython3",
   "version": "3.10.10"
  }
 },
 "nbformat": 4,
 "nbformat_minor": 5
}
