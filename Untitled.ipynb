{
 "cells": [
  {
   "cell_type": "code",
   "execution_count": 2,
   "id": "61caf5ab-9655-4db0-932d-073f80b50334",
   "metadata": {},
   "outputs": [],
   "source": [
    "#example making new folder with os\n",
    "import os\n",
    "os.makedirs('Data/',exist_ok=True)"
   ]
  },
  {
   "cell_type": "code",
   "execution_count": 3,
   "id": "2d32ebdb-40bb-43e7-9735-6078d0dbc551",
   "metadata": {},
   "outputs": [
    {
     "data": {
      "text/plain": [
       "[]"
      ]
     },
     "execution_count": 3,
     "metadata": {},
     "output_type": "execute_result"
    }
   ],
   "source": [
    "os.listdir('Data/')"
   ]
  },
  {
   "cell_type": "code",
   "execution_count": 4,
   "id": "e1cd8785-7e35-4bf3-a0f6-8c1934ae2568",
   "metadata": {},
   "outputs": [
    {
     "data": {
      "text/plain": [
       "[]"
      ]
     },
     "execution_count": 4,
     "metadata": {},
     "output_type": "execute_result"
    }
   ],
   "source": [
    "#Confirm folder was created and files added successfully\n",
    "os.listdir(\"Data/\")"
   ]
  },
  {
   "cell_type": "code",
   "execution_count": 5,
   "id": "a376d49a-48b1-4a21-96e2-a2e1928c387c",
   "metadata": {},
   "outputs": [
    {
     "data": {
      "text/plain": [
       "<function os.makedirs(name, mode=511, exist_ok=False)>"
      ]
     },
     "execution_count": 5,
     "metadata": {},
     "output_type": "execute_result"
    }
   ],
   "source": [
    "os.makedirs"
   ]
  },
  {
   "cell_type": "code",
   "execution_count": 9,
   "id": "96e6aebe-da5c-4691-9f2b-a4424dcbfcb9",
   "metadata": {},
   "outputs": [
    {
     "ename": "NameError",
     "evalue": "name 'pd' is not defined",
     "output_type": "error",
     "traceback": [
      "\u001b[0;31m---------------------------------------------------------------------------\u001b[0m",
      "\u001b[0;31mNameError\u001b[0m                                 Traceback (most recent call last)",
      "Cell \u001b[0;32mIn[9], line 1\u001b[0m\n\u001b[0;32m----> 1\u001b[0m basics \u001b[38;5;241m=\u001b[39m \u001b[43mpd\u001b[49m\u001b[38;5;241m.\u001b[39mread_csv(\u001b[38;5;124m\"\u001b[39m\u001b[38;5;124mData/title.basics.tsv.gz\u001b[39m\u001b[38;5;124m\"\u001b[39m, sep\u001b[38;5;241m=\u001b[39m\u001b[38;5;124m'\u001b[39m\u001b[38;5;130;01m\\t\u001b[39;00m\u001b[38;5;124m'\u001b[39m, low_memory\u001b[38;5;241m=\u001b[39m\u001b[38;5;28;01mFalse\u001b[39;00m)\n",
      "\u001b[0;31mNameError\u001b[0m: name 'pd' is not defined"
     ]
    }
   ],
   "source": [
    "basics = pd.read_csv(\"Data/title.basics.tsv.gz\", sep='\\t', low_memory=False)"
   ]
  },
  {
   "cell_type": "code",
   "execution_count": 11,
   "id": "e423358d-d5bc-41ea-864c-907f798404f0",
   "metadata": {},
   "outputs": [
    {
     "ename": "NameError",
     "evalue": "name 'basics' is not defined",
     "output_type": "error",
     "traceback": [
      "\u001b[0;31m---------------------------------------------------------------------------\u001b[0m",
      "\u001b[0;31mNameError\u001b[0m                                 Traceback (most recent call last)",
      "Cell \u001b[0;32mIn[11], line 3\u001b[0m\n\u001b[1;32m      1\u001b[0m \u001b[38;5;66;03m#Filter the basics table down to only include the US by using the filter akas dataframe\u001b[39;00m\n\u001b[0;32m----> 3\u001b[0m filter_us_titles \u001b[38;5;241m=\u001b[39m \u001b[43mbasics\u001b[49m [\u001b[38;5;124m'\u001b[39m\u001b[38;5;124mtconst\u001b[39m\u001b[38;5;124m'\u001b[39m]\u001b[38;5;241m.\u001b[39misin(akas[\u001b[38;5;124m'\u001b[39m\u001b[38;5;124mtitleId\u001b[39m\u001b[38;5;124m'\u001b[39m])\n\u001b[1;32m      4\u001b[0m basics \u001b[38;5;241m=\u001b[39m basics [filter_us_titles]\n\u001b[1;32m      5\u001b[0m basics\n",
      "\u001b[0;31mNameError\u001b[0m: name 'basics' is not defined"
     ]
    }
   ],
   "source": [
    "#Filter the basics table down to only include the US by using the filter akas dataframe\n",
    "\n",
    "filter_us_titles = basics ['tconst'].isin(akas['titleId'])\n",
    "basics = basics [filter_us_titles]\n",
    "basics"
   ]
  },
  {
   "cell_type": "code",
   "execution_count": 12,
   "id": "7f77fa51-c492-4ec2-b9a6-fadd8c11c4c3",
   "metadata": {},
   "outputs": [
    {
     "ename": "SyntaxError",
     "evalue": "unexpected character after line continuation character (366297743.py, line 1)",
     "output_type": "error",
     "traceback": [
      "\u001b[0;36m  Cell \u001b[0;32mIn[12], line 1\u001b[0;36m\u001b[0m\n\u001b[0;31m    df = df.replace({\\\\N':np.nan})\u001b[0m\n\u001b[0m                      ^\u001b[0m\n\u001b[0;31mSyntaxError\u001b[0m\u001b[0;31m:\u001b[0m unexpected character after line continuation character\n"
     ]
    }
   ],
   "source": [
    "df = df.replace({\\\\N':np.nan})"
   ]
  },
  {
   "cell_type": "code",
   "execution_count": 13,
   "id": "c4fbaefb-9524-40ae-a223-43ceb2948bc3",
   "metadata": {},
   "outputs": [
    {
     "ename": "NameError",
     "evalue": "name 'df' is not defined",
     "output_type": "error",
     "traceback": [
      "\u001b[0;31m---------------------------------------------------------------------------\u001b[0m",
      "\u001b[0;31mNameError\u001b[0m                                 Traceback (most recent call last)",
      "Cell \u001b[0;32mIn[13], line 1\u001b[0m\n\u001b[0;32m----> 1\u001b[0m filter_documentaries \u001b[38;5;241m=\u001b[39m \u001b[43mdf\u001b[49m[\u001b[38;5;124m'\u001b[39m\u001b[38;5;124mgenres\u001b[39m\u001b[38;5;124m'\u001b[39m]\u001b[38;5;241m.\u001b[39mstr\u001b[38;5;241m.\u001b[39mcontains(\u001b[38;5;124m'\u001b[39m\u001b[38;5;124mDocumentary\u001b[39m\u001b[38;5;124m'\u001b[39m)\n",
      "\u001b[0;31mNameError\u001b[0m: name 'df' is not defined"
     ]
    }
   ],
   "source": [
    "filter_documentaries = df['genres'].str.contains('Documentary')"
   ]
  },
  {
   "cell_type": "code",
   "execution_count": null,
   "id": "8728fc5d-fcbe-485e-b2de-f05e97fa159c",
   "metadata": {},
   "outputs": [],
   "source": []
  }
 ],
 "metadata": {
  "kernelspec": {
   "display_name": "Python (dojo-env)",
   "language": "python",
   "name": "dojo-env"
  },
  "language_info": {
   "codemirror_mode": {
    "name": "ipython",
    "version": 3
   },
   "file_extension": ".py",
   "mimetype": "text/x-python",
   "name": "python",
   "nbconvert_exporter": "python",
   "pygments_lexer": "ipython3",
   "version": "3.10.10"
  }
 },
 "nbformat": 4,
 "nbformat_minor": 5
}
